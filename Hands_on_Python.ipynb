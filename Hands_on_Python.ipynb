{
  "nbformat": 4,
  "nbformat_minor": 0,
  "metadata": {
    "colab": {
      "name": "Hands-on Python.ipynb",
      "provenance": [],
      "toc_visible": true,
      "include_colab_link": true
    },
    "kernelspec": {
      "name": "python3",
      "display_name": "Python 3"
    },
    "language_info": {
      "name": "python"
    }
  },
  "cells": [
    {
      "cell_type": "markdown",
      "metadata": {
        "id": "view-in-github",
        "colab_type": "text"
      },
      "source": [
        "<a href=\"https://colab.research.google.com/github/c0elh0/python/blob/master/Hands_on_Python.ipynb\" target=\"_parent\"><img src=\"https://colab.research.google.com/assets/colab-badge.svg\" alt=\"Open In Colab\"/></a>"
      ]
    },
    {
      "cell_type": "markdown",
      "metadata": {
        "id": "HFMiuKSIt3Ej"
      },
      "source": [
        "Reunião UNIFESP - DDI \n",
        "Introdução Python - comandos básicos\n",
        "Dia 01/09/2021\n"
      ]
    },
    {
      "cell_type": "code",
      "metadata": {
        "colab": {
          "base_uri": "https://localhost:8080/"
        },
        "id": "j1aXMYDp4Gfh",
        "outputId": "ad0a1b89-fe63-4407-a874-04ead43108f2"
      },
      "source": [
        "import numpy as np\n",
        "\n",
        "np.array(list(range(11)))\n"
      ],
      "execution_count": null,
      "outputs": [
        {
          "output_type": "execute_result",
          "data": {
            "text/plain": [
              "array([ 0,  1,  2,  3,  4,  5,  6,  7,  8,  9, 10])"
            ]
          },
          "metadata": {},
          "execution_count": 1
        }
      ]
    },
    {
      "cell_type": "code",
      "metadata": {
        "id": "vQW72iDJOTbV",
        "colab": {
          "base_uri": "https://localhost:8080/"
        },
        "outputId": "590737b3-0036-4dbc-ef11-7d461f9e99a9"
      },
      "source": [
        "\n",
        "\n",
        "# COMANDO PRINT\n",
        "print(\"Olá mundo!\")\n"
      ],
      "execution_count": null,
      "outputs": [
        {
          "output_type": "stream",
          "name": "stdout",
          "text": [
            "Olá mundo!\n"
          ]
        }
      ]
    },
    {
      "cell_type": "code",
      "metadata": {
        "colab": {
          "base_uri": "https://localhost:8080/",
          "height": 192
        },
        "id": "vt4WBqkhr4ms",
        "outputId": "e1c47345-3b59-409a-ae68-b9b3cafff13b"
      },
      "source": [
        "\n",
        "class Bola():\n",
        "  diametro = 10\n",
        "\n",
        "bola = Bola()\n",
        "print(bola.diametro)\n",
        "\n",
        "#Exemplos - Importando Pandas\n",
        "import pandas as pd\n",
        "d = {'Peso': [80, 78, 65, 99], 'Altura': [1.78, 1.65, 1.50, 1.80]}\n",
        "df = pd.DataFrame(data=d)\n",
        "df\n",
        "\n",
        "\n"
      ],
      "execution_count": null,
      "outputs": [
        {
          "output_type": "stream",
          "name": "stdout",
          "text": [
            "10\n"
          ]
        },
        {
          "output_type": "execute_result",
          "data": {
            "text/html": [
              "<div>\n",
              "<style scoped>\n",
              "    .dataframe tbody tr th:only-of-type {\n",
              "        vertical-align: middle;\n",
              "    }\n",
              "\n",
              "    .dataframe tbody tr th {\n",
              "        vertical-align: top;\n",
              "    }\n",
              "\n",
              "    .dataframe thead th {\n",
              "        text-align: right;\n",
              "    }\n",
              "</style>\n",
              "<table border=\"1\" class=\"dataframe\">\n",
              "  <thead>\n",
              "    <tr style=\"text-align: right;\">\n",
              "      <th></th>\n",
              "      <th>Peso</th>\n",
              "      <th>Altura</th>\n",
              "    </tr>\n",
              "  </thead>\n",
              "  <tbody>\n",
              "    <tr>\n",
              "      <th>0</th>\n",
              "      <td>80</td>\n",
              "      <td>1.78</td>\n",
              "    </tr>\n",
              "    <tr>\n",
              "      <th>1</th>\n",
              "      <td>78</td>\n",
              "      <td>1.65</td>\n",
              "    </tr>\n",
              "    <tr>\n",
              "      <th>2</th>\n",
              "      <td>65</td>\n",
              "      <td>1.50</td>\n",
              "    </tr>\n",
              "    <tr>\n",
              "      <th>3</th>\n",
              "      <td>99</td>\n",
              "      <td>1.80</td>\n",
              "    </tr>\n",
              "  </tbody>\n",
              "</table>\n",
              "</div>"
            ],
            "text/plain": [
              "   Peso  Altura\n",
              "0    80    1.78\n",
              "1    78    1.65\n",
              "2    65    1.50\n",
              "3    99    1.80"
            ]
          },
          "metadata": {},
          "execution_count": 92
        }
      ]
    },
    {
      "cell_type": "code",
      "metadata": {
        "colab": {
          "base_uri": "https://localhost:8080/"
        },
        "id": "NGNVVU14rZ_4",
        "outputId": "eb48462a-0ef2-40a1-ac04-f8b7074a2c17"
      },
      "source": [
        "a = '78'\n",
        "b = '2'\n",
        "c = a + b\n",
        "print(c)\n"
      ],
      "execution_count": null,
      "outputs": [
        {
          "output_type": "stream",
          "name": "stdout",
          "text": [
            "782\n"
          ]
        }
      ]
    },
    {
      "cell_type": "code",
      "metadata": {
        "colab": {
          "base_uri": "https://localhost:8080/"
        },
        "id": "gLabe7aG9ZD7",
        "outputId": "dd38e3c4-4cde-4f0b-cf8b-ed1eea66ed26"
      },
      "source": [
        "# tipos de dados primitivos\n",
        "\"\"\"\n",
        "str - string - textos \"Assim\" 'Assim'\n",
        "int - inteiro - 554 877 -56 -1 0 -12\n",
        "float - real/ponto flutuante - 10.5 1.5 0.0 -12.0\n",
        "bool - booleano/lógico - True/False 10 == 10\n",
        "\"\"\"\n",
        "\n",
        "variavel = 'Bom dia'\n",
        "print(variavel)\n",
        "\n",
        "\n",
        "a = 7\n"
      ],
      "execution_count": null,
      "outputs": [
        {
          "output_type": "stream",
          "name": "stdout",
          "text": [
            "Bom dia\n"
          ]
        }
      ]
    },
    {
      "cell_type": "code",
      "metadata": {
        "colab": {
          "base_uri": "https://localhost:8080/"
        },
        "id": "tI1DTHGDjkJ-",
        "outputId": "0bdfe15e-c740-4059-e1d7-8f2f6f218a92"
      },
      "source": [
        "print(a)"
      ],
      "execution_count": null,
      "outputs": [
        {
          "output_type": "stream",
          "name": "stdout",
          "text": [
            "7\n"
          ]
        }
      ]
    },
    {
      "cell_type": "code",
      "metadata": {
        "colab": {
          "base_uri": "https://localhost:8080/"
        },
        "id": "NUw541Mz_SqZ",
        "outputId": "24d7d60f-8b28-42c9-d185-c119a57d77f0"
      },
      "source": [
        "# Operadores aritméticos\n",
        "# + soma \n",
        "# - subtração\n",
        "# * multiplicação\n",
        "# / divisão\n",
        "# // divisão inteira\n",
        "#  potenciação\n",
        "# % resto\n",
        "# == checa se é igual e retorna True ou False\n",
        "# >/>= checa se é maior/maior ou igual\n",
        "# </<=\n",
        "# != diferente de\n",
        "# () precedência de operações\n",
        "\n",
        "\n",
        "a = 7\n",
        "b = 2\n",
        "c = (a + b) * b\n",
        "print(c)"
      ],
      "execution_count": null,
      "outputs": [
        {
          "output_type": "stream",
          "name": "stdout",
          "text": [
            "18\n"
          ]
        }
      ]
    },
    {
      "cell_type": "code",
      "metadata": {
        "colab": {
          "base_uri": "https://localhost:8080/"
        },
        "id": "z_Ko_mZYOxWo",
        "outputId": "670dba0f-599d-4cde-83f2-376233e0c329"
      },
      "source": [
        "# operadores lógicos\n",
        "# if\n",
        "# while\n",
        "# for\n",
        "# or\n",
        "# and\n",
        "\n",
        "a = 6\n",
        "b = 7\n",
        "\n",
        "\n",
        "if a > b:\n",
        "  print('a é maior do que b')\n",
        "elif a < b:\n",
        "  print('a é menor que b')\n",
        "elif a == b:\n",
        "  print('a é igual a b')\n",
        "else:\n",
        "  print('cheguei no else')\n",
        "\n",
        "\n",
        "i = 0\n",
        "while(i<10):\n",
        "  print(i)\n",
        "  i += 1\n",
        "  if i == 6:\n",
        "    break\n",
        "\n",
        "print(5*'\\n')\n",
        "\n",
        "for i in range(5):\n",
        "  print(i)\n",
        "\n",
        "\n",
        "print(type(range(5)))\n"
      ],
      "execution_count": null,
      "outputs": [
        {
          "output_type": "stream",
          "text": [
            "a é menor que b\n",
            "0\n",
            "1\n",
            "2\n",
            "3\n",
            "4\n",
            "5\n",
            "\n",
            "\n",
            "\n",
            "\n",
            "\n",
            "\n",
            "0\n",
            "1\n",
            "2\n",
            "3\n",
            "4\n",
            "<class 'range'>\n",
            "1\n",
            "2\n",
            "3\n",
            "6.5\n",
            "False\n",
            "Augusto\n"
          ],
          "name": "stdout"
        }
      ]
    },
    {
      "cell_type": "code",
      "metadata": {
        "colab": {
          "base_uri": "https://localhost:8080/"
        },
        "id": "40wI7A4ylWa1",
        "outputId": "21ce8f24-7e60-422f-8fc8-1ea337b0ffaa"
      },
      "source": [
        "# operadores lógicos\n",
        "# if\n",
        "# while\n",
        "# for\n",
        "# or\n",
        "# and\n",
        "\n",
        "\n",
        "\n"
      ],
      "execution_count": null,
      "outputs": [
        {
          "output_type": "stream",
          "name": "stdout",
          "text": [
            "0\n",
            "2\n",
            "4\n",
            "6\n",
            "8\n",
            "10\n",
            "12\n",
            "14\n"
          ]
        }
      ]
    },
    {
      "cell_type": "code",
      "metadata": {
        "colab": {
          "base_uri": "https://localhost:8080/"
        },
        "id": "rL9D5KtVYI7c",
        "outputId": "02d2a89f-1445-48db-944f-3c1827c24a39"
      },
      "source": [
        "# listas e dicionários\n",
        "#           0            1      2     3\n",
        "\n"
      ],
      "execution_count": null,
      "outputs": [
        {
          "output_type": "stream",
          "name": "stdout",
          "text": [
            "radiologista\n"
          ]
        }
      ]
    },
    {
      "cell_type": "code",
      "metadata": {
        "colab": {
          "base_uri": "https://localhost:8080/"
        },
        "id": "0VLsmBEeX5hV",
        "outputId": "66acbeb4-6660-41cd-a533-7b089856475e"
      },
      "source": [
        "# Funções\n",
        "\n",
        "def soma(a, b):\n",
        "  return a + b\n",
        "\n",
        "def bomdia():\n",
        "  print('Bom dia!')\n",
        "  return True\n",
        "\n",
        "a = bomdia()\n",
        "print(a)\n",
        "\n",
        "\n",
        "\n"
      ],
      "execution_count": null,
      "outputs": [
        {
          "output_type": "stream",
          "name": "stdout",
          "text": [
            "Bom dia!\n",
            "True\n"
          ]
        }
      ]
    },
    {
      "cell_type": "code",
      "metadata": {
        "id": "7E0VR-AoeLrG",
        "colab": {
          "base_uri": "https://localhost:8080/",
          "height": 130
        },
        "outputId": "51049a86-5d99-40d5-cd12-eac4ef780104"
      },
      "source": [
        ""
      ],
      "execution_count": null,
      "outputs": [
        {
          "output_type": "error",
          "ename": "SyntaxError",
          "evalue": "ignored",
          "traceback": [
            "\u001b[0;36m  File \u001b[0;32m\"<ipython-input-1-a3f8163f833b>\"\u001b[0;36m, line \u001b[0;32m5\u001b[0m\n\u001b[0;31m    X  = pd.array([1,2,3;3,4,5])\u001b[0m\n\u001b[0m                        ^\u001b[0m\n\u001b[0;31mSyntaxError\u001b[0m\u001b[0;31m:\u001b[0m invalid syntax\n"
          ]
        }
      ]
    }
  ]
}